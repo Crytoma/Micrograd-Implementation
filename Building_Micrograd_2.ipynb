{
 "cells": [
  {
   "cell_type": "code",
   "execution_count": 59,
   "metadata": {},
   "outputs": [],
   "source": [
    "# Kacper Rajchel :: 21st January 2023 :: @11:30am"
   ]
  },
  {
   "cell_type": "code",
   "execution_count": 60,
   "metadata": {},
   "outputs": [],
   "source": [
    "import math, numpy as np, matplotlib.pyplot as plt, torch\n",
    "%matplotlib inline"
   ]
  },
  {
   "cell_type": "code",
   "execution_count": 61,
   "metadata": {},
   "outputs": [],
   "source": [
    "class Value:\n",
    "  \n",
    "  def __init__(self, data, _children=(), _op='', label=''):\n",
    "    self.data = data\n",
    "    self.grad = 0.0\n",
    "    self._backward = lambda: None\n",
    "    self._prev = set(_children)\n",
    "    self._op = _op\n",
    "    self.label = label\n",
    "\n",
    "  def __repr__(self):\n",
    "    return f\"Value(data={self.data})\"\n",
    "  \n",
    "  def __add__(self, other):\n",
    "    other = other if isinstance(other, Value) else Value(other)\n",
    "    out = Value(self.data + other.data, (self, other), '+')\n",
    "    \n",
    "    def _backward():\n",
    "      self.grad += 1.0 * out.grad\n",
    "      other.grad += 1.0 * out.grad\n",
    "    out._backward = _backward\n",
    "    \n",
    "    return out\n",
    "\n",
    "  def __mul__(self, other):\n",
    "    other = other if isinstance(other, Value) else Value(other)\n",
    "    out = Value(self.data * other.data, (self, other), '*')\n",
    "    \n",
    "    def _backward():\n",
    "      self.grad += other.data * out.grad\n",
    "      other.grad += self.data * out.grad\n",
    "    out._backward = _backward\n",
    "      \n",
    "    return out\n",
    "  \n",
    "  def __pow__(self, other):\n",
    "    assert isinstance(other, (int, float)), \"only supporting int/float powers for now\"\n",
    "    out = Value(self.data**other, (self,), f'**{other}')\n",
    "\n",
    "    def _backward():\n",
    "        self.grad += other * (self.data ** (other - 1)) * out.grad\n",
    "    out._backward = _backward\n",
    "\n",
    "    return out\n",
    "  \n",
    "  def __rmul__(self, other): # other * self\n",
    "    return self * other\n",
    "\n",
    "  def __truediv__(self, other): # self / other\n",
    "    return self * other**-1\n",
    "\n",
    "  def __neg__(self): # -self\n",
    "    return self * -1\n",
    "\n",
    "  def __sub__(self, other): # self - other\n",
    "    return self + (-other)\n",
    "\n",
    "  def __radd__(self, other): # other + self\n",
    "    return self + other\n",
    "\n",
    "  def tanh(self):\n",
    "    x = self.data\n",
    "    t = (math.exp(2*x) - 1)/(math.exp(2*x) + 1)\n",
    "    out = Value(t, (self, ), 'tanh')\n",
    "    \n",
    "    def _backward():\n",
    "      self.grad += (1 - t**2) * out.grad\n",
    "    out._backward = _backward\n",
    "    \n",
    "    return out\n",
    "  \n",
    "  def exp(self):\n",
    "    x = self.data\n",
    "    out = Value(math.exp(x), (self, ), 'exp')\n",
    "    \n",
    "    def _backward():\n",
    "      self.grad += out.data * out.grad # NOTE: in the video I incorrectly used = instead of +=. Fixed here.\n",
    "    out._backward = _backward\n",
    "    \n",
    "    return out\n",
    "  \n",
    "  \n",
    "  def backward(self):\n",
    "    \n",
    "    topo = []\n",
    "    visited = set()\n",
    "    def build_topo(v):\n",
    "      if v not in visited:\n",
    "        visited.add(v)\n",
    "        for child in v._prev:\n",
    "          build_topo(child)\n",
    "        topo.append(v)\n",
    "    build_topo(self)\n",
    "    \n",
    "    self.grad = 1.0\n",
    "    for node in reversed(topo):\n",
    "      node._backward()"
   ]
  },
  {
   "cell_type": "code",
   "execution_count": 62,
   "metadata": {},
   "outputs": [],
   "source": [
    "from graphviz import Digraph\n",
    "\n",
    "def trace(root):\n",
    "  # builds a set of all nodes and edges in a graph\n",
    "  nodes, edges = set(), set()\n",
    "  def build(v):\n",
    "    if v not in nodes:\n",
    "      nodes.add(v)\n",
    "      for child in v._prev:\n",
    "        edges.add((child, v))\n",
    "        build(child)\n",
    "  build(root)\n",
    "  return nodes, edges\n",
    "\n",
    "def draw_dot(root):\n",
    "  dot = Digraph(format='svg', graph_attr={'rankdir': 'LR'}) # LR = left to right\n",
    "  \n",
    "  nodes, edges = trace(root)\n",
    "  for n in nodes:\n",
    "    uid = str(id(n))\n",
    "    # for any value in the graph, create a rectangular ('record') node for it\n",
    "    dot.node(name = uid, label = \"{ %s | data %.4f | grad %.4f }\" % (n.label, n.data, n.grad), shape='record')\n",
    "    if n._op:\n",
    "      # if this value is a result of some operation, create an op node for it\n",
    "      dot.node(name = uid + n._op, label = n._op)\n",
    "      # and connect this node to it\n",
    "      dot.edge(uid + n._op, uid)\n",
    "\n",
    "  for n1, n2 in edges:\n",
    "    # connect n1 to the op node of n2\n",
    "    dot.edge(str(id(n1)), str(id(n2)) + n2._op)\n",
    "\n",
    "  return dot"
   ]
  },
  {
   "cell_type": "code",
   "execution_count": 63,
   "metadata": {},
   "outputs": [
    {
     "data": {
      "image/svg+xml": "<?xml version=\"1.0\" encoding=\"UTF-8\" standalone=\"no\"?>\n<!DOCTYPE svg PUBLIC \"-//W3C//DTD SVG 1.1//EN\"\n \"http://www.w3.org/Graphics/SVG/1.1/DTD/svg11.dtd\">\n<!-- Generated by graphviz version 5.0.0 (0)\n -->\n<!-- Pages: 1 -->\n<svg width=\"3431pt\" height=\"239pt\"\n viewBox=\"0.00 0.00 3430.60 239.00\" xmlns=\"http://www.w3.org/2000/svg\" xmlns:xlink=\"http://www.w3.org/1999/xlink\">\n<g id=\"graph0\" class=\"graph\" transform=\"scale(1 1) rotate(0) translate(4 235)\">\n<polygon fill=\"white\" stroke=\"transparent\" points=\"-4,4 -4,-235 3426.6,-235 3426.6,4 -4,4\"/>\n<!-- 140706988377088 -->\n<g id=\"node1\" class=\"node\">\n<title>140706988377088</title>\n<polygon fill=\"none\" stroke=\"black\" points=\"4.5,-194.5 4.5,-230.5 244.5,-230.5 244.5,-194.5 4.5,-194.5\"/>\n<text text-anchor=\"middle\" x=\"21.5\" y=\"-208.8\" font-family=\"Times,serif\" font-size=\"14.00\">x2</text>\n<polyline fill=\"none\" stroke=\"black\" points=\"38.5,-194.5 38.5,-230.5 \"/>\n<text text-anchor=\"middle\" x=\"89.5\" y=\"-208.8\" font-family=\"Times,serif\" font-size=\"14.00\">data 0.0000</text>\n<polyline fill=\"none\" stroke=\"black\" points=\"140.5,-194.5 140.5,-230.5 \"/>\n<text text-anchor=\"middle\" x=\"192.5\" y=\"-208.8\" font-family=\"Times,serif\" font-size=\"14.00\">grad 0.4986</text>\n</g>\n<!-- 140706988382032* -->\n<g id=\"node20\" class=\"node\">\n<title>140706988382032*</title>\n<ellipse fill=\"none\" stroke=\"black\" cx=\"312\" cy=\"-157.5\" rx=\"27\" ry=\"18\"/>\n<text text-anchor=\"middle\" x=\"312\" y=\"-153.8\" font-family=\"Times,serif\" font-size=\"14.00\">*</text>\n</g>\n<!-- 140706988377088&#45;&gt;140706988382032* -->\n<g id=\"edge28\" class=\"edge\">\n<title>140706988377088&#45;&gt;140706988382032*</title>\n<path fill=\"none\" stroke=\"black\" d=\"M218.13,-194.46C228.63,-191.77 239.1,-188.78 249,-185.5 259.71,-181.96 271.05,-177.16 281.07,-172.54\"/>\n<polygon fill=\"black\" stroke=\"black\" points=\"282.67,-175.66 290.2,-168.21 279.67,-169.33 282.67,-175.66\"/>\n</g>\n<!-- 140706988382224 -->\n<g id=\"node2\" class=\"node\">\n<title>140706988382224</title>\n<polygon fill=\"none\" stroke=\"black\" points=\"1953.1,-55.5 1953.1,-91.5 2180.1,-91.5 2180.1,-55.5 1953.1,-55.5\"/>\n<text text-anchor=\"middle\" x=\"1963.6\" y=\"-69.8\" font-family=\"Times,serif\" font-size=\"14.00\"> </text>\n<polyline fill=\"none\" stroke=\"black\" points=\"1974.1,-55.5 1974.1,-91.5 \"/>\n<text text-anchor=\"middle\" x=\"2025.1\" y=\"-69.8\" font-family=\"Times,serif\" font-size=\"14.00\">data 5.8522</text>\n<polyline fill=\"none\" stroke=\"black\" points=\"2076.1,-55.5 2076.1,-91.5 \"/>\n<text text-anchor=\"middle\" x=\"2128.1\" y=\"-69.8\" font-family=\"Times,serif\" font-size=\"14.00\">grad 0.0426</text>\n</g>\n<!-- 140706988384528+ -->\n<g id=\"node14\" class=\"node\">\n<title>140706988384528+</title>\n<ellipse fill=\"none\" stroke=\"black\" cx=\"2245.6\" cy=\"-100.5\" rx=\"27\" ry=\"18\"/>\n<text text-anchor=\"middle\" x=\"2245.6\" y=\"-96.8\" font-family=\"Times,serif\" font-size=\"14.00\">+</text>\n</g>\n<!-- 140706988382224&#45;&gt;140706988384528+ -->\n<g id=\"edge25\" class=\"edge\">\n<title>140706988382224&#45;&gt;140706988384528+</title>\n<path fill=\"none\" stroke=\"black\" d=\"M2180.19,-90.68C2190.47,-92.24 2200.28,-93.74 2209,-95.07\"/>\n<polygon fill=\"black\" stroke=\"black\" points=\"2208.65,-98.56 2219.06,-96.61 2209.7,-91.64 2208.65,-98.56\"/>\n</g>\n<!-- 140706988388176+ -->\n<g id=\"node27\" class=\"node\">\n<title>140706988388176+</title>\n<ellipse fill=\"none\" stroke=\"black\" cx=\"2245.6\" cy=\"-45.5\" rx=\"27\" ry=\"18\"/>\n<text text-anchor=\"middle\" x=\"2245.6\" y=\"-41.8\" font-family=\"Times,serif\" font-size=\"14.00\">+</text>\n</g>\n<!-- 140706988382224&#45;&gt;140706988388176+ -->\n<g id=\"edge23\" class=\"edge\">\n<title>140706988382224&#45;&gt;140706988388176+</title>\n<path fill=\"none\" stroke=\"black\" d=\"M2180.19,-55.69C2190.47,-54.06 2200.28,-52.51 2209,-51.13\"/>\n<polygon fill=\"black\" stroke=\"black\" points=\"2209.73,-54.56 2219.06,-49.54 2208.64,-47.64 2209.73,-54.56\"/>\n</g>\n<!-- 140706988382224exp -->\n<g id=\"node3\" class=\"node\">\n<title>140706988382224exp</title>\n<ellipse fill=\"none\" stroke=\"black\" cx=\"1887.3\" cy=\"-73.5\" rx=\"27.1\" ry=\"18\"/>\n<text text-anchor=\"middle\" x=\"1887.3\" y=\"-69.8\" font-family=\"Times,serif\" font-size=\"14.00\">exp</text>\n</g>\n<!-- 140706988382224exp&#45;&gt;140706988382224 -->\n<g id=\"edge1\" class=\"edge\">\n<title>140706988382224exp&#45;&gt;140706988382224</title>\n<path fill=\"none\" stroke=\"black\" d=\"M1914.84,-73.5C1922.97,-73.5 1932.49,-73.5 1942.74,-73.5\"/>\n<polygon fill=\"black\" stroke=\"black\" points=\"1942.76,-77 1952.76,-73.5 1942.76,-70 1942.76,-77\"/>\n</g>\n<!-- 140706988391488 -->\n<g id=\"node4\" class=\"node\">\n<title>140706988391488</title>\n<polygon fill=\"none\" stroke=\"black\" points=\"1597,-55.5 1597,-91.5 1824,-91.5 1824,-55.5 1597,-55.5\"/>\n<text text-anchor=\"middle\" x=\"1607.5\" y=\"-69.8\" font-family=\"Times,serif\" font-size=\"14.00\"> </text>\n<polyline fill=\"none\" stroke=\"black\" points=\"1618,-55.5 1618,-91.5 \"/>\n<text text-anchor=\"middle\" x=\"1669\" y=\"-69.8\" font-family=\"Times,serif\" font-size=\"14.00\">data 1.7668</text>\n<polyline fill=\"none\" stroke=\"black\" points=\"1720,-55.5 1720,-91.5 \"/>\n<text text-anchor=\"middle\" x=\"1772\" y=\"-69.8\" font-family=\"Times,serif\" font-size=\"14.00\">grad 0.2493</text>\n</g>\n<!-- 140706988391488&#45;&gt;140706988382224exp -->\n<g id=\"edge24\" class=\"edge\">\n<title>140706988391488&#45;&gt;140706988382224exp</title>\n<path fill=\"none\" stroke=\"black\" d=\"M1824.18,-73.5C1833.26,-73.5 1841.95,-73.5 1849.79,-73.5\"/>\n<polygon fill=\"black\" stroke=\"black\" points=\"1849.93,-77 1859.93,-73.5 1849.93,-70 1849.93,-77\"/>\n</g>\n<!-- 140706988391488* -->\n<g id=\"node5\" class=\"node\">\n<title>140706988391488*</title>\n<ellipse fill=\"none\" stroke=\"black\" cx=\"1534\" cy=\"-73.5\" rx=\"27\" ry=\"18\"/>\n<text text-anchor=\"middle\" x=\"1534\" y=\"-69.8\" font-family=\"Times,serif\" font-size=\"14.00\">*</text>\n</g>\n<!-- 140706988391488*&#45;&gt;140706988391488 -->\n<g id=\"edge2\" class=\"edge\">\n<title>140706988391488*&#45;&gt;140706988391488</title>\n<path fill=\"none\" stroke=\"black\" d=\"M1561.12,-73.5C1568.67,-73.5 1577.45,-73.5 1586.9,-73.5\"/>\n<polygon fill=\"black\" stroke=\"black\" points=\"1586.95,-77 1596.95,-73.5 1586.95,-70 1586.95,-77\"/>\n</g>\n<!-- 140706988377184 -->\n<g id=\"node6\" class=\"node\">\n<title>140706988377184</title>\n<polygon fill=\"none\" stroke=\"black\" points=\"3191.6,-54.5 3191.6,-90.5 3422.6,-90.5 3422.6,-54.5 3191.6,-54.5\"/>\n<text text-anchor=\"middle\" x=\"3204.1\" y=\"-68.8\" font-family=\"Times,serif\" font-size=\"14.00\">o</text>\n<polyline fill=\"none\" stroke=\"black\" points=\"3216.6,-54.5 3216.6,-90.5 \"/>\n<text text-anchor=\"middle\" x=\"3267.6\" y=\"-68.8\" font-family=\"Times,serif\" font-size=\"14.00\">data 0.7081</text>\n<polyline fill=\"none\" stroke=\"black\" points=\"3318.6,-54.5 3318.6,-90.5 \"/>\n<text text-anchor=\"middle\" x=\"3370.6\" y=\"-68.8\" font-family=\"Times,serif\" font-size=\"14.00\">grad 1.0000</text>\n</g>\n<!-- 140706988377184* -->\n<g id=\"node7\" class=\"node\">\n<title>140706988377184*</title>\n<ellipse fill=\"none\" stroke=\"black\" cx=\"3128.6\" cy=\"-72.5\" rx=\"27\" ry=\"18\"/>\n<text text-anchor=\"middle\" x=\"3128.6\" y=\"-68.8\" font-family=\"Times,serif\" font-size=\"14.00\">*</text>\n</g>\n<!-- 140706988377184*&#45;&gt;140706988377184 -->\n<g id=\"edge3\" class=\"edge\">\n<title>140706988377184*&#45;&gt;140706988377184</title>\n<path fill=\"none\" stroke=\"black\" d=\"M3155.64,-72.5C3163.18,-72.5 3171.96,-72.5 3181.41,-72.5\"/>\n<polygon fill=\"black\" stroke=\"black\" points=\"3181.49,-76 3191.49,-72.5 3181.49,-69 3181.49,-76\"/>\n</g>\n<!-- 140706988379776 -->\n<g id=\"node8\" class=\"node\">\n<title>140706988379776</title>\n<polygon fill=\"none\" stroke=\"black\" points=\"2.5,-84.5 2.5,-120.5 246.5,-120.5 246.5,-84.5 2.5,-84.5\"/>\n<text text-anchor=\"middle\" x=\"19.5\" y=\"-98.8\" font-family=\"Times,serif\" font-size=\"14.00\">x1</text>\n<polyline fill=\"none\" stroke=\"black\" points=\"36.5,-84.5 36.5,-120.5 \"/>\n<text text-anchor=\"middle\" x=\"87.5\" y=\"-98.8\" font-family=\"Times,serif\" font-size=\"14.00\">data 2.0000</text>\n<polyline fill=\"none\" stroke=\"black\" points=\"138.5,-84.5 138.5,-120.5 \"/>\n<text text-anchor=\"middle\" x=\"192.5\" y=\"-98.8\" font-family=\"Times,serif\" font-size=\"14.00\">grad &#45;1.4957</text>\n</g>\n<!-- 140706988381984* -->\n<g id=\"node16\" class=\"node\">\n<title>140706988381984*</title>\n<ellipse fill=\"none\" stroke=\"black\" cx=\"312\" cy=\"-102.5\" rx=\"27\" ry=\"18\"/>\n<text text-anchor=\"middle\" x=\"312\" y=\"-98.8\" font-family=\"Times,serif\" font-size=\"14.00\">*</text>\n</g>\n<!-- 140706988379776&#45;&gt;140706988381984* -->\n<g id=\"edge22\" class=\"edge\">\n<title>140706988379776&#45;&gt;140706988381984*</title>\n<path fill=\"none\" stroke=\"black\" d=\"M246.64,-102.5C256.7,-102.5 266.26,-102.5 274.79,-102.5\"/>\n<polygon fill=\"black\" stroke=\"black\" points=\"275,-106 285,-102.5 275,-99 275,-106\"/>\n</g>\n<!-- 140706988389520 -->\n<g id=\"node9\" class=\"node\">\n<title>140706988389520</title>\n<polygon fill=\"none\" stroke=\"black\" points=\"827.5,-56.5 827.5,-92.5 1059.5,-92.5 1059.5,-56.5 827.5,-56.5\"/>\n<text text-anchor=\"middle\" x=\"840.5\" y=\"-70.8\" font-family=\"Times,serif\" font-size=\"14.00\">b</text>\n<polyline fill=\"none\" stroke=\"black\" points=\"853.5,-56.5 853.5,-92.5 \"/>\n<text text-anchor=\"middle\" x=\"904.5\" y=\"-70.8\" font-family=\"Times,serif\" font-size=\"14.00\">data 6.8834</text>\n<polyline fill=\"none\" stroke=\"black\" points=\"955.5,-56.5 955.5,-92.5 \"/>\n<text text-anchor=\"middle\" x=\"1007.5\" y=\"-70.8\" font-family=\"Times,serif\" font-size=\"14.00\">grad 0.4986</text>\n</g>\n<!-- 140706988382944+ -->\n<g id=\"node12\" class=\"node\">\n<title>140706988382944+</title>\n<ellipse fill=\"none\" stroke=\"black\" cx=\"1176\" cy=\"-101.5\" rx=\"27\" ry=\"18\"/>\n<text text-anchor=\"middle\" x=\"1176\" y=\"-97.8\" font-family=\"Times,serif\" font-size=\"14.00\">+</text>\n</g>\n<!-- 140706988389520&#45;&gt;140706988382944+ -->\n<g id=\"edge11\" class=\"edge\">\n<title>140706988389520&#45;&gt;140706988382944+</title>\n<path fill=\"none\" stroke=\"black\" d=\"M1059.75,-88C1088.57,-91.38 1117.4,-94.75 1139.01,-97.28\"/>\n<polygon fill=\"black\" stroke=\"black\" points=\"1138.67,-100.77 1149.01,-98.46 1139.48,-93.82 1138.67,-100.77\"/>\n</g>\n<!-- 140706988390528 -->\n<g id=\"node10\" class=\"node\">\n<title>140706988390528</title>\n<polygon fill=\"none\" stroke=\"black\" points=\"0,-29.5 0,-65.5 249,-65.5 249,-29.5 0,-29.5\"/>\n<text text-anchor=\"middle\" x=\"19\" y=\"-43.8\" font-family=\"Times,serif\" font-size=\"14.00\">w1</text>\n<polyline fill=\"none\" stroke=\"black\" points=\"38,-29.5 38,-65.5 \"/>\n<text text-anchor=\"middle\" x=\"91.5\" y=\"-43.8\" font-family=\"Times,serif\" font-size=\"14.00\">data &#45;3.0000</text>\n<polyline fill=\"none\" stroke=\"black\" points=\"145,-29.5 145,-65.5 \"/>\n<text text-anchor=\"middle\" x=\"197\" y=\"-43.8\" font-family=\"Times,serif\" font-size=\"14.00\">grad 0.9971</text>\n</g>\n<!-- 140706988390528&#45;&gt;140706988381984* -->\n<g id=\"edge19\" class=\"edge\">\n<title>140706988390528&#45;&gt;140706988381984*</title>\n<path fill=\"none\" stroke=\"black\" d=\"M214.42,-65.55C226.15,-68.54 237.93,-71.87 249,-75.5 259.46,-78.93 270.57,-83.47 280.46,-87.84\"/>\n<polygon fill=\"black\" stroke=\"black\" points=\"279.31,-91.17 289.87,-92.12 282.21,-84.79 279.31,-91.17\"/>\n</g>\n<!-- 140706988382944 -->\n<g id=\"node11\" class=\"node\">\n<title>140706988382944</title>\n<polygon fill=\"none\" stroke=\"black\" points=\"1239,-83.5 1239,-119.5 1471,-119.5 1471,-83.5 1239,-83.5\"/>\n<text text-anchor=\"middle\" x=\"1252\" y=\"-97.8\" font-family=\"Times,serif\" font-size=\"14.00\">n</text>\n<polyline fill=\"none\" stroke=\"black\" points=\"1265,-83.5 1265,-119.5 \"/>\n<text text-anchor=\"middle\" x=\"1316\" y=\"-97.8\" font-family=\"Times,serif\" font-size=\"14.00\">data 0.8834</text>\n<polyline fill=\"none\" stroke=\"black\" points=\"1367,-83.5 1367,-119.5 \"/>\n<text text-anchor=\"middle\" x=\"1419\" y=\"-97.8\" font-family=\"Times,serif\" font-size=\"14.00\">grad 0.4986</text>\n</g>\n<!-- 140706988382944&#45;&gt;140706988391488* -->\n<g id=\"edge20\" class=\"edge\">\n<title>140706988382944&#45;&gt;140706988391488*</title>\n<path fill=\"none\" stroke=\"black\" d=\"M1470.1,-83.45C1479.88,-81.9 1489.21,-80.43 1497.54,-79.11\"/>\n<polygon fill=\"black\" stroke=\"black\" points=\"1498.19,-82.55 1507.52,-77.53 1497.1,-75.64 1498.19,-82.55\"/>\n</g>\n<!-- 140706988382944+&#45;&gt;140706988382944 -->\n<g id=\"edge4\" class=\"edge\">\n<title>140706988382944+&#45;&gt;140706988382944</title>\n<path fill=\"none\" stroke=\"black\" d=\"M1203.12,-101.5C1210.53,-101.5 1219.14,-101.5 1228.4,-101.5\"/>\n<polygon fill=\"black\" stroke=\"black\" points=\"1228.69,-105 1238.69,-101.5 1228.69,-98 1228.69,-105\"/>\n</g>\n<!-- 140706988384528 -->\n<g id=\"node13\" class=\"node\">\n<title>140706988384528</title>\n<polygon fill=\"none\" stroke=\"black\" points=\"2575.6,-82.5 2575.6,-118.5 2802.6,-118.5 2802.6,-82.5 2575.6,-82.5\"/>\n<text text-anchor=\"middle\" x=\"2586.1\" y=\"-96.8\" font-family=\"Times,serif\" font-size=\"14.00\"> </text>\n<polyline fill=\"none\" stroke=\"black\" points=\"2596.6,-82.5 2596.6,-118.5 \"/>\n<text text-anchor=\"middle\" x=\"2647.6\" y=\"-96.8\" font-family=\"Times,serif\" font-size=\"14.00\">data 4.8522</text>\n<polyline fill=\"none\" stroke=\"black\" points=\"2698.6,-82.5 2698.6,-118.5 \"/>\n<text text-anchor=\"middle\" x=\"2750.6\" y=\"-96.8\" font-family=\"Times,serif\" font-size=\"14.00\">grad 0.1459</text>\n</g>\n<!-- 140706988384528&#45;&gt;140706988377184* -->\n<g id=\"edge12\" class=\"edge\">\n<title>140706988384528&#45;&gt;140706988377184*</title>\n<path fill=\"none\" stroke=\"black\" d=\"M2802.69,-94.17C2877.29,-89.84 2977.32,-83.76 3065.6,-77.5 3074.02,-76.9 3083.08,-76.2 3091.61,-75.52\"/>\n<polygon fill=\"black\" stroke=\"black\" points=\"3091.98,-79 3101.66,-74.7 3091.41,-72.03 3091.98,-79\"/>\n</g>\n<!-- 140706988384528+&#45;&gt;140706988384528 -->\n<g id=\"edge5\" class=\"edge\">\n<title>140706988384528+&#45;&gt;140706988384528</title>\n<path fill=\"none\" stroke=\"black\" d=\"M2272.89,-100.5C2329.16,-100.5 2464.31,-100.5 2565.23,-100.5\"/>\n<polygon fill=\"black\" stroke=\"black\" points=\"2565.5,-104 2575.5,-100.5 2565.5,-97 2565.5,-104\"/>\n</g>\n<!-- 140706988381984 -->\n<g id=\"node15\" class=\"node\">\n<title>140706988381984</title>\n<polygon fill=\"none\" stroke=\"black\" points=\"375,-84.5 375,-120.5 648,-120.5 648,-84.5 375,-84.5\"/>\n<text text-anchor=\"middle\" x=\"406\" y=\"-98.8\" font-family=\"Times,serif\" font-size=\"14.00\">x1*w1</text>\n<polyline fill=\"none\" stroke=\"black\" points=\"437,-84.5 437,-120.5 \"/>\n<text text-anchor=\"middle\" x=\"490.5\" y=\"-98.8\" font-family=\"Times,serif\" font-size=\"14.00\">data &#45;6.0000</text>\n<polyline fill=\"none\" stroke=\"black\" points=\"544,-84.5 544,-120.5 \"/>\n<text text-anchor=\"middle\" x=\"596\" y=\"-98.8\" font-family=\"Times,serif\" font-size=\"14.00\">grad 0.4986</text>\n</g>\n<!-- 140706988380016+ -->\n<g id=\"node23\" class=\"node\">\n<title>140706988380016+</title>\n<ellipse fill=\"none\" stroke=\"black\" cx=\"711\" cy=\"-129.5\" rx=\"27\" ry=\"18\"/>\n<text text-anchor=\"middle\" x=\"711\" y=\"-125.8\" font-family=\"Times,serif\" font-size=\"14.00\">+</text>\n</g>\n<!-- 140706988381984&#45;&gt;140706988380016+ -->\n<g id=\"edge13\" class=\"edge\">\n<title>140706988381984&#45;&gt;140706988380016+</title>\n<path fill=\"none\" stroke=\"black\" d=\"M644.24,-120.51C655.12,-122 665.4,-123.4 674.45,-124.64\"/>\n<polygon fill=\"black\" stroke=\"black\" points=\"674.11,-128.13 684.49,-126.01 675.05,-121.19 674.11,-128.13\"/>\n</g>\n<!-- 140706988381984*&#45;&gt;140706988381984 -->\n<g id=\"edge6\" class=\"edge\">\n<title>140706988381984*&#45;&gt;140706988381984</title>\n<path fill=\"none\" stroke=\"black\" d=\"M339.23,-102.5C346.7,-102.5 355.41,-102.5 364.87,-102.5\"/>\n<polygon fill=\"black\" stroke=\"black\" points=\"364.98,-106 374.98,-102.5 364.98,-99 364.98,-106\"/>\n</g>\n<!-- 140706988384048 -->\n<g id=\"node17\" class=\"node\">\n<title>140706988384048</title>\n<polygon fill=\"none\" stroke=\"black\" points=\"1241.5,-28.5 1241.5,-64.5 1468.5,-64.5 1468.5,-28.5 1241.5,-28.5\"/>\n<text text-anchor=\"middle\" x=\"1252\" y=\"-42.8\" font-family=\"Times,serif\" font-size=\"14.00\"> </text>\n<polyline fill=\"none\" stroke=\"black\" points=\"1262.5,-28.5 1262.5,-64.5 \"/>\n<text text-anchor=\"middle\" x=\"1313.5\" y=\"-42.8\" font-family=\"Times,serif\" font-size=\"14.00\">data 2.0000</text>\n<polyline fill=\"none\" stroke=\"black\" points=\"1364.5,-28.5 1364.5,-64.5 \"/>\n<text text-anchor=\"middle\" x=\"1416.5\" y=\"-42.8\" font-family=\"Times,serif\" font-size=\"14.00\">grad 0.2202</text>\n</g>\n<!-- 140706988384048&#45;&gt;140706988391488* -->\n<g id=\"edge26\" class=\"edge\">\n<title>140706988384048&#45;&gt;140706988391488*</title>\n<path fill=\"none\" stroke=\"black\" d=\"M1468.6,-63.68C1478.87,-65.24 1488.68,-66.74 1497.4,-68.07\"/>\n<polygon fill=\"black\" stroke=\"black\" points=\"1497.05,-71.56 1507.47,-69.61 1498.11,-64.64 1497.05,-71.56\"/>\n</g>\n<!-- 140706988392256 -->\n<g id=\"node18\" class=\"node\">\n<title>140706988392256</title>\n<polygon fill=\"none\" stroke=\"black\" points=\"2.5,-139.5 2.5,-175.5 246.5,-175.5 246.5,-139.5 2.5,-139.5\"/>\n<text text-anchor=\"middle\" x=\"21.5\" y=\"-153.8\" font-family=\"Times,serif\" font-size=\"14.00\">w2</text>\n<polyline fill=\"none\" stroke=\"black\" points=\"40.5,-139.5 40.5,-175.5 \"/>\n<text text-anchor=\"middle\" x=\"91.5\" y=\"-153.8\" font-family=\"Times,serif\" font-size=\"14.00\">data 1.0000</text>\n<polyline fill=\"none\" stroke=\"black\" points=\"142.5,-139.5 142.5,-175.5 \"/>\n<text text-anchor=\"middle\" x=\"194.5\" y=\"-153.8\" font-family=\"Times,serif\" font-size=\"14.00\">grad 0.0000</text>\n</g>\n<!-- 140706988392256&#45;&gt;140706988382032* -->\n<g id=\"edge16\" class=\"edge\">\n<title>140706988392256&#45;&gt;140706988382032*</title>\n<path fill=\"none\" stroke=\"black\" d=\"M246.64,-157.5C256.7,-157.5 266.26,-157.5 274.79,-157.5\"/>\n<polygon fill=\"black\" stroke=\"black\" points=\"275,-161 285,-157.5 275,-154 275,-161\"/>\n</g>\n<!-- 140706988382032 -->\n<g id=\"node19\" class=\"node\">\n<title>140706988382032</title>\n<polygon fill=\"none\" stroke=\"black\" points=\"377.5,-139.5 377.5,-175.5 645.5,-175.5 645.5,-139.5 377.5,-139.5\"/>\n<text text-anchor=\"middle\" x=\"408.5\" y=\"-153.8\" font-family=\"Times,serif\" font-size=\"14.00\">x2*w2</text>\n<polyline fill=\"none\" stroke=\"black\" points=\"439.5,-139.5 439.5,-175.5 \"/>\n<text text-anchor=\"middle\" x=\"490.5\" y=\"-153.8\" font-family=\"Times,serif\" font-size=\"14.00\">data 0.0000</text>\n<polyline fill=\"none\" stroke=\"black\" points=\"541.5,-139.5 541.5,-175.5 \"/>\n<text text-anchor=\"middle\" x=\"593.5\" y=\"-153.8\" font-family=\"Times,serif\" font-size=\"14.00\">grad 0.4986</text>\n</g>\n<!-- 140706988382032&#45;&gt;140706988380016+ -->\n<g id=\"edge18\" class=\"edge\">\n<title>140706988382032&#45;&gt;140706988380016+</title>\n<path fill=\"none\" stroke=\"black\" d=\"M639.53,-139.49C652.09,-137.71 663.99,-136.02 674.3,-134.56\"/>\n<polygon fill=\"black\" stroke=\"black\" points=\"675.03,-137.99 684.44,-133.12 674.05,-131.06 675.03,-137.99\"/>\n</g>\n<!-- 140706988382032*&#45;&gt;140706988382032 -->\n<g id=\"edge7\" class=\"edge\">\n<title>140706988382032*&#45;&gt;140706988382032</title>\n<path fill=\"none\" stroke=\"black\" d=\"M339.23,-157.5C347.26,-157.5 356.72,-157.5 366.99,-157.5\"/>\n<polygon fill=\"black\" stroke=\"black\" points=\"367.08,-161 377.08,-157.5 367.08,-154 367.08,-161\"/>\n</g>\n<!-- 140706988377376 -->\n<g id=\"node21\" class=\"node\">\n<title>140706988377376</title>\n<polygon fill=\"none\" stroke=\"black\" points=\"1950.6,-110.5 1950.6,-146.5 2182.6,-146.5 2182.6,-110.5 1950.6,-110.5\"/>\n<text text-anchor=\"middle\" x=\"1961.1\" y=\"-124.8\" font-family=\"Times,serif\" font-size=\"14.00\"> </text>\n<polyline fill=\"none\" stroke=\"black\" points=\"1971.6,-110.5 1971.6,-146.5 \"/>\n<text text-anchor=\"middle\" x=\"2025.1\" y=\"-124.8\" font-family=\"Times,serif\" font-size=\"14.00\">data &#45;1.0000</text>\n<polyline fill=\"none\" stroke=\"black\" points=\"2078.6,-110.5 2078.6,-146.5 \"/>\n<text text-anchor=\"middle\" x=\"2130.6\" y=\"-124.8\" font-family=\"Times,serif\" font-size=\"14.00\">grad 0.1459</text>\n</g>\n<!-- 140706988377376&#45;&gt;140706988384528+ -->\n<g id=\"edge14\" class=\"edge\">\n<title>140706988377376&#45;&gt;140706988384528+</title>\n<path fill=\"none\" stroke=\"black\" d=\"M2181.69,-110.45C2191.48,-108.9 2200.8,-107.43 2209.14,-106.11\"/>\n<polygon fill=\"black\" stroke=\"black\" points=\"2209.79,-109.55 2219.12,-104.53 2208.69,-102.64 2209.79,-109.55\"/>\n</g>\n<!-- 140706988380016 -->\n<g id=\"node22\" class=\"node\">\n<title>140706988380016</title>\n<polygon fill=\"none\" stroke=\"black\" points=\"774,-111.5 774,-147.5 1113,-147.5 1113,-111.5 774,-111.5\"/>\n<text text-anchor=\"middle\" x=\"838\" y=\"-125.8\" font-family=\"Times,serif\" font-size=\"14.00\">x1*w1 + x2*w2</text>\n<polyline fill=\"none\" stroke=\"black\" points=\"902,-111.5 902,-147.5 \"/>\n<text text-anchor=\"middle\" x=\"955.5\" y=\"-125.8\" font-family=\"Times,serif\" font-size=\"14.00\">data &#45;6.0000</text>\n<polyline fill=\"none\" stroke=\"black\" points=\"1009,-111.5 1009,-147.5 \"/>\n<text text-anchor=\"middle\" x=\"1061\" y=\"-125.8\" font-family=\"Times,serif\" font-size=\"14.00\">grad 0.4986</text>\n</g>\n<!-- 140706988380016&#45;&gt;140706988382944+ -->\n<g id=\"edge27\" class=\"edge\">\n<title>140706988380016&#45;&gt;140706988382944+</title>\n<path fill=\"none\" stroke=\"black\" d=\"M1092.76,-111.49C1109.86,-109.41 1125.9,-107.46 1139.2,-105.85\"/>\n<polygon fill=\"black\" stroke=\"black\" points=\"1139.74,-109.31 1149.24,-104.63 1138.89,-102.36 1139.74,-109.31\"/>\n</g>\n<!-- 140706988380016+&#45;&gt;140706988380016 -->\n<g id=\"edge8\" class=\"edge\">\n<title>140706988380016+&#45;&gt;140706988380016</title>\n<path fill=\"none\" stroke=\"black\" d=\"M738.44,-129.5C745.81,-129.5 754.42,-129.5 763.84,-129.5\"/>\n<polygon fill=\"black\" stroke=\"black\" points=\"763.94,-133 773.94,-129.5 763.94,-126 763.94,-133\"/>\n</g>\n<!-- 140706988378432 -->\n<g id=\"node24\" class=\"node\">\n<title>140706988378432</title>\n<polygon fill=\"none\" stroke=\"black\" points=\"2838.6,-31.5 2838.6,-67.5 3065.6,-67.5 3065.6,-31.5 2838.6,-31.5\"/>\n<text text-anchor=\"middle\" x=\"2849.1\" y=\"-45.8\" font-family=\"Times,serif\" font-size=\"14.00\"> </text>\n<polyline fill=\"none\" stroke=\"black\" points=\"2859.6,-31.5 2859.6,-67.5 \"/>\n<text text-anchor=\"middle\" x=\"2910.6\" y=\"-45.8\" font-family=\"Times,serif\" font-size=\"14.00\">data 0.1459</text>\n<polyline fill=\"none\" stroke=\"black\" points=\"2961.6,-31.5 2961.6,-67.5 \"/>\n<text text-anchor=\"middle\" x=\"3013.6\" y=\"-45.8\" font-family=\"Times,serif\" font-size=\"14.00\">grad 4.8522</text>\n</g>\n<!-- 140706988378432&#45;&gt;140706988377184* -->\n<g id=\"edge17\" class=\"edge\">\n<title>140706988378432&#45;&gt;140706988377184*</title>\n<path fill=\"none\" stroke=\"black\" d=\"M3066.07,-64.39C3075.17,-65.59 3083.86,-66.74 3091.69,-67.77\"/>\n<polygon fill=\"black\" stroke=\"black\" points=\"3091.43,-71.26 3101.8,-69.1 3092.34,-64.32 3091.43,-71.26\"/>\n</g>\n<!-- 140706988378432**&#45;1 -->\n<g id=\"node25\" class=\"node\">\n<title>140706988378432**&#45;1</title>\n<ellipse fill=\"none\" stroke=\"black\" cx=\"2689.1\" cy=\"-45.5\" rx=\"28.7\" ry=\"18\"/>\n<text text-anchor=\"middle\" x=\"2689.1\" y=\"-41.8\" font-family=\"Times,serif\" font-size=\"14.00\">**&#45;1</text>\n</g>\n<!-- 140706988378432**&#45;1&#45;&gt;140706988378432 -->\n<g id=\"edge9\" class=\"edge\">\n<title>140706988378432**&#45;1&#45;&gt;140706988378432</title>\n<path fill=\"none\" stroke=\"black\" d=\"M2718.03,-45.93C2744.75,-46.34 2786.99,-46.98 2828.21,-47.62\"/>\n<polygon fill=\"black\" stroke=\"black\" points=\"2828.32,-51.12 2838.37,-47.77 2828.43,-44.12 2828.32,-51.12\"/>\n</g>\n<!-- 140706988388176 -->\n<g id=\"node26\" class=\"node\">\n<title>140706988388176</title>\n<polygon fill=\"none\" stroke=\"black\" points=\"2308.6,-27.5 2308.6,-63.5 2539.6,-63.5 2539.6,-27.5 2308.6,-27.5\"/>\n<text text-anchor=\"middle\" x=\"2319.1\" y=\"-41.8\" font-family=\"Times,serif\" font-size=\"14.00\"> </text>\n<polyline fill=\"none\" stroke=\"black\" points=\"2329.6,-27.5 2329.6,-63.5 \"/>\n<text text-anchor=\"middle\" x=\"2380.6\" y=\"-41.8\" font-family=\"Times,serif\" font-size=\"14.00\">data 6.8522</text>\n<polyline fill=\"none\" stroke=\"black\" points=\"2431.6,-27.5 2431.6,-63.5 \"/>\n<text text-anchor=\"middle\" x=\"2485.6\" y=\"-41.8\" font-family=\"Times,serif\" font-size=\"14.00\">grad &#45;0.1033</text>\n</g>\n<!-- 140706988388176&#45;&gt;140706988378432**&#45;1 -->\n<g id=\"edge21\" class=\"edge\">\n<title>140706988388176&#45;&gt;140706988378432**&#45;1</title>\n<path fill=\"none\" stroke=\"black\" d=\"M2539.69,-45.5C2579.38,-45.5 2621.17,-45.5 2650.25,-45.5\"/>\n<polygon fill=\"black\" stroke=\"black\" points=\"2650.37,-49 2660.37,-45.5 2650.37,-42 2650.37,-49\"/>\n</g>\n<!-- 140706988388176+&#45;&gt;140706988388176 -->\n<g id=\"edge10\" class=\"edge\">\n<title>140706988388176+&#45;&gt;140706988388176</title>\n<path fill=\"none\" stroke=\"black\" d=\"M2272.64,-45.5C2280.18,-45.5 2288.96,-45.5 2298.41,-45.5\"/>\n<polygon fill=\"black\" stroke=\"black\" points=\"2298.49,-49 2308.49,-45.5 2298.49,-42 2298.49,-49\"/>\n</g>\n<!-- 140706988391248 -->\n<g id=\"node28\" class=\"node\">\n<title>140706988391248</title>\n<polygon fill=\"none\" stroke=\"black\" points=\"1951.1,-0.5 1951.1,-36.5 2182.1,-36.5 2182.1,-0.5 1951.1,-0.5\"/>\n<text text-anchor=\"middle\" x=\"1961.6\" y=\"-14.8\" font-family=\"Times,serif\" font-size=\"14.00\"> </text>\n<polyline fill=\"none\" stroke=\"black\" points=\"1972.1,-0.5 1972.1,-36.5 \"/>\n<text text-anchor=\"middle\" x=\"2023.1\" y=\"-14.8\" font-family=\"Times,serif\" font-size=\"14.00\">data 1.0000</text>\n<polyline fill=\"none\" stroke=\"black\" points=\"2074.1,-0.5 2074.1,-36.5 \"/>\n<text text-anchor=\"middle\" x=\"2128.1\" y=\"-14.8\" font-family=\"Times,serif\" font-size=\"14.00\">grad &#45;0.1033</text>\n</g>\n<!-- 140706988391248&#45;&gt;140706988388176+ -->\n<g id=\"edge15\" class=\"edge\">\n<title>140706988391248&#45;&gt;140706988388176+</title>\n<path fill=\"none\" stroke=\"black\" d=\"M2182.19,-35.98C2191.71,-37.43 2200.79,-38.82 2208.93,-40.06\"/>\n<polygon fill=\"black\" stroke=\"black\" points=\"2208.63,-43.55 2219.04,-41.6 2209.68,-36.63 2208.63,-43.55\"/>\n</g>\n</g>\n</svg>\n",
      "text/plain": [
       "<graphviz.graphs.Digraph at 0x7ff8e60f5d80>"
      ]
     },
     "execution_count": 63,
     "metadata": {},
     "output_type": "execute_result"
    }
   ],
   "source": [
    "# neuron briefer\n",
    "# inputs\n",
    "x1 = Value(2.0, label='x1')\n",
    "x2 = Value(0.0, label='x2')\n",
    "\n",
    "# Weights w1, w2\n",
    "w1 = Value(-3.0, label='w1')\n",
    "w2 = Value(1.0, label='w2')\n",
    "\n",
    "# neuron bias\n",
    "b = Value(6.88341251513541, label='b')\n",
    "\n",
    "x1w1 = x1*w1; x1w1.label = 'x1*w1'\n",
    "x2w2 = x2*w2; x2w2.label = 'x2*w2'\n",
    "x1w1x2w2 = x1w1+x2w2; x1w1x2w2.label = 'x1*w1 + x2*w2'\n",
    "\n",
    "n = x1w1x2w2 + b; n.label = 'n'\n",
    "\n",
    "e = (2*n).exp()\n",
    "o = (e - 1) / (e + 1)\n",
    "o.label = 'o'\n",
    "o.backward()\n",
    "draw_dot(o)"
   ]
  },
  {
   "cell_type": "code",
   "execution_count": 64,
   "metadata": {},
   "outputs": [],
   "source": [
    "import torch"
   ]
  },
  {
   "cell_type": "code",
   "execution_count": 65,
   "metadata": {},
   "outputs": [
    {
     "name": "stdout",
     "output_type": "stream",
     "text": [
      "0.6811370150370972\n",
      "x2: 0.5360523667463531\n",
      "w2: 0.0\n",
      "x1: -1.6081571002390596\n",
      "w1: 1.0721047334927063\n"
     ]
    }
   ],
   "source": [
    "# Same thing but in PyTorch\n",
    "x1 = torch.Tensor([2.0]).double(); x1.requires_grad=True\n",
    "x2 = torch.Tensor([0.0]).double(); x2.requires_grad=True\n",
    "w1 = torch.Tensor([-3.0]).double(); w1.requires_grad=True\n",
    "w2 = torch.Tensor([1.0]).double(); w2.requires_grad=True\n",
    "b = torch.Tensor([6.8312321421442151]).double(); b.requires_grad=True\n",
    "n = x1*w1 + x2*w2 + b\n",
    "o = torch.tanh(n)\n",
    "\n",
    "print(o.data.item())\n",
    "o.backward()\n",
    "\n",
    "print(f'x2: {x2.grad.item()}')\n",
    "print(f'w2: {w2.grad.item()}')\n",
    "print(f'x1: {x1.grad.item()}')\n",
    "print(f'w1: {w1.grad.item()}')"
   ]
  },
  {
   "cell_type": "code",
   "execution_count": 66,
   "metadata": {},
   "outputs": [],
   "source": [
    "import random"
   ]
  },
  {
   "cell_type": "code",
   "execution_count": 67,
   "metadata": {},
   "outputs": [],
   "source": [
    "class Neuron:\n",
    "  \n",
    "  def __init__(self, nin):\n",
    "    self.w = [Value(random.uniform(-1,1)) for _ in range(nin)]\n",
    "    self.b = Value(random.uniform(-1,1))\n",
    "  \n",
    "  def __call__(self, x):\n",
    "    # w * x + b\n",
    "    act = sum((wi*xi for wi, xi in zip(self.w, x)), self.b)\n",
    "    out = act.tanh()\n",
    "    return out\n",
    "  \n",
    "  def parameters(self):\n",
    "    return self.w + [self.b]\n",
    "\n",
    "class Layer:\n",
    "  \n",
    "  def __init__(self, nin, nout):\n",
    "    self.neurons = [Neuron(nin) for _ in range(nout)]\n",
    "  \n",
    "  def __call__(self, x):\n",
    "    outs = [n(x) for n in self.neurons]\n",
    "    return outs[0] if len(outs) == 1 else outs\n",
    "  \n",
    "  def parameters(self):\n",
    "    return [p for neuron in self.neurons for p in neuron.parameters()]\n",
    "\n",
    "class MLP:\n",
    "  \n",
    "  def __init__(self, nin, nouts):\n",
    "    sz = [nin] + nouts\n",
    "    self.layers = [Layer(sz[i], sz[i+1]) for i in range(len(nouts))]\n",
    "  \n",
    "  def __call__(self, x):\n",
    "    for layer in self.layers:\n",
    "      x = layer(x)\n",
    "    return x\n",
    "  \n",
    "  def parameters(self):\n",
    "    return [p for layer in self.layers for p in layer.parameters()]"
   ]
  },
  {
   "cell_type": "code",
   "execution_count": 70,
   "metadata": {},
   "outputs": [
    {
     "data": {
      "text/plain": [
       "Value(data=0.7645651700003802)"
      ]
     },
     "execution_count": 70,
     "metadata": {},
     "output_type": "execute_result"
    }
   ],
   "source": [
    "x = [2.0, 3.0, -1.0]\n",
    "n = MLP(3, [4, 4, 1])\n",
    "n(x)"
   ]
  },
  {
   "cell_type": "code",
   "execution_count": 71,
   "metadata": {},
   "outputs": [],
   "source": [
    "xs = [\n",
    "  [2.0, 3.0, -1.0],\n",
    "  [3.0, -1.0, 0.5],\n",
    "  [0.5, 1.0, 1.0],\n",
    "  [1.0, 1.0, -1.0],\n",
    "]\n",
    "ys = [1.0, -1.0, -1.0, 1.0] # desired targets"
   ]
  },
  {
   "cell_type": "code",
   "execution_count": null,
   "metadata": {},
   "outputs": [],
   "source": []
  }
 ],
 "metadata": {
  "kernelspec": {
   "display_name": "Python 3",
   "language": "python",
   "name": "python3"
  },
  "language_info": {
   "codemirror_mode": {
    "name": "ipython",
    "version": 3
   },
   "file_extension": ".py",
   "mimetype": "text/x-python",
   "name": "python",
   "nbconvert_exporter": "python",
   "pygments_lexer": "ipython3",
   "version": "3.10.6"
  },
  "orig_nbformat": 4,
  "vscode": {
   "interpreter": {
    "hash": "319f406bde1a9ec9654c0a36c317b3f61dc0224f24644957f59aa72f43d0e859"
   }
  }
 },
 "nbformat": 4,
 "nbformat_minor": 2
}
